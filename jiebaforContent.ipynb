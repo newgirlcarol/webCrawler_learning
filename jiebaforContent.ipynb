{
 "cells": [
  {
   "cell_type": "code",
   "execution_count": null,
   "id": "e8297c7d",
   "metadata": {
    "ExecuteTime": {
     "end_time": "2021-09-06T07:18:47.342980Z",
     "start_time": "2021-09-06T07:18:46.815909Z"
    }
   },
   "outputs": [],
   "source": [
    "import jieba\n",
    "import glob"
   ]
  },
  {
   "cell_type": "code",
   "execution_count": null,
   "id": "8b69d8d3",
   "metadata": {
    "ExecuteTime": {
     "end_time": "2021-09-06T07:18:47.358430Z",
     "start_time": "2021-09-06T07:18:47.347964Z"
    }
   },
   "outputs": [],
   "source": [
    "# 取得存在104job資料夾底下的所有檔案列表\n",
    "lists = glob.glob('./104job/*.txt')"
   ]
  },
  {
   "cell_type": "code",
   "execution_count": null,
   "id": "5f633092",
   "metadata": {
    "ExecuteTime": {
     "end_time": "2021-09-06T07:18:47.424634Z",
     "start_time": "2021-09-06T07:18:47.366412Z"
    }
   },
   "outputs": [],
   "source": [
    "# 將所有檔案內的工作內容取出\n",
    "data = \"\"\n",
    "for i in lists:\n",
    "    filePath = str(i)\n",
    "    with open(filePath, 'r', encoding = \"utf-8\") as f:\n",
    "        tempList = f.read().split('工作內容:')[1].split('\\n')\n",
    "        for j in tempList:\n",
    "            data += j\n",
    "data"
   ]
  },
  {
   "cell_type": "code",
   "execution_count": null,
   "id": "e44e58c1",
   "metadata": {
    "ExecuteTime": {
     "end_time": "2021-09-06T07:18:49.259880Z",
     "start_time": "2021-09-06T07:18:47.430058Z"
    }
   },
   "outputs": [],
   "source": [
    "with open('stopwords.txt', 'r', encoding = 'utf-8') as f:\n",
    "    stops = f.read()\n",
    "\n",
    "res = [keywords for keywords in jieba.cut(data, cut_all = False) if keywords not in stops]"
   ]
  },
  {
   "cell_type": "code",
   "execution_count": null,
   "id": "a6e1a163",
   "metadata": {
    "ExecuteTime": {
     "end_time": "2021-09-06T07:18:49.275033Z",
     "start_time": "2021-09-06T07:18:49.263670Z"
    }
   },
   "outputs": [],
   "source": [
    "wordCount = dict()\n",
    "for word in res:\n",
    "    if word not in wordCount:\n",
    "        wordCount[word] = 1\n",
    "    else:\n",
    "        wordCount[word] += 1"
   ]
  },
  {
   "cell_type": "code",
   "execution_count": null,
   "id": "cac70d47",
   "metadata": {
    "ExecuteTime": {
     "end_time": "2021-09-06T07:18:49.423788Z",
     "start_time": "2021-09-06T07:18:49.279402Z"
    }
   },
   "outputs": [],
   "source": [
    "wordCountlist = [(k, v) for k, v in wordCount.items() if k.__len__() > 1]\n",
    "wordCountlist.sort(key = lambda x:x[1], reverse = True)\n",
    "wordCountlist"
   ]
  },
  {
   "cell_type": "code",
   "execution_count": null,
   "id": "d44a31c4",
   "metadata": {
    "ExecuteTime": {
     "end_time": "2021-09-06T07:18:50.876233Z",
     "start_time": "2021-09-06T07:18:49.427229Z"
    }
   },
   "outputs": [],
   "source": [
    "import pandas as pd"
   ]
  },
  {
   "cell_type": "code",
   "execution_count": null,
   "id": "c4640bb9",
   "metadata": {
    "ExecuteTime": {
     "end_time": "2021-09-06T07:49:18.718473Z",
     "start_time": "2021-09-06T07:49:18.638586Z"
    }
   },
   "outputs": [],
   "source": [
    "df = pd.read_csv('104Job.csv')\n",
    "skill = \"\"\n",
    "for i in df['其他條件']:\n",
    "    skill += (i[1:-1])\n",
    "\n",
    "wordList = [keyword for keyword in jieba.cut(skill) if keyword not in stops]\n",
    "wordList"
   ]
  },
  {
   "cell_type": "code",
   "execution_count": null,
   "id": "eb4b7490",
   "metadata": {
    "ExecuteTime": {
     "end_time": "2021-09-06T08:04:21.696102Z",
     "start_time": "2021-09-06T08:04:21.667248Z"
    }
   },
   "outputs": [],
   "source": [
    "countWord = dict()\n",
    "for i in wordList:\n",
    "    if i in countWord:\n",
    "        countWord[i] += 1\n",
    "    else:\n",
    "        countWord[i] = 1\n",
    "rank = [(k, v) for k,v in countWord.items()]\n",
    "rank.sort(key = lambda x:x[1], reverse = True)\n",
    "rank"
   ]
  },
  {
   "cell_type": "code",
   "execution_count": null,
   "id": "04a3174f",
   "metadata": {
    "ExecuteTime": {
     "end_time": "2021-09-06T08:07:21.163687Z",
     "start_time": "2021-09-06T08:07:20.252748Z"
    }
   },
   "outputs": [],
   "source": [
    "from wordcloud import WordCloud\n",
    "from matplotlib import pyplot as plt\n",
    "wc = WordCloud()\n",
    "wc.generate(skill)"
   ]
  },
  {
   "cell_type": "code",
   "execution_count": null,
   "id": "10e398ac",
   "metadata": {
    "ExecuteTime": {
     "end_time": "2021-09-06T08:07:42.425418Z",
     "start_time": "2021-09-06T08:07:41.811569Z"
    }
   },
   "outputs": [],
   "source": [
    "plt.imshow(wc) \n",
    "plt.axis(\"off\")\n",
    "plt.show()"
   ]
  },
  {
   "cell_type": "code",
   "execution_count": null,
   "id": "463b85d4",
   "metadata": {},
   "outputs": [],
   "source": []
  }
 ],
 "metadata": {
  "kernelspec": {
   "display_name": "PY38",
   "language": "python",
   "name": "tfb103"
  },
  "language_info": {
   "codemirror_mode": {
    "name": "ipython",
    "version": 3
   },
   "file_extension": ".py",
   "mimetype": "text/x-python",
   "name": "python",
   "nbconvert_exporter": "python",
   "pygments_lexer": "ipython3",
   "version": "3.8.10"
  }
 },
 "nbformat": 4,
 "nbformat_minor": 5
}
