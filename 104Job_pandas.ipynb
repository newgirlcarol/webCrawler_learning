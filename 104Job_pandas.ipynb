{
 "cells": [
  {
   "cell_type": "code",
   "execution_count": null,
   "id": "a880a279",
   "metadata": {
    "ExecuteTime": {
     "end_time": "2021-09-06T08:14:23.209551Z",
     "start_time": "2021-09-06T08:14:21.898969Z"
    }
   },
   "outputs": [],
   "source": [
    "import pandas as pd\n",
    "import glob"
   ]
  },
  {
   "cell_type": "code",
   "execution_count": null,
   "id": "8f3f6719",
   "metadata": {
    "ExecuteTime": {
     "end_time": "2021-09-06T08:14:23.225394Z",
     "start_time": "2021-09-06T08:14:23.213904Z"
    }
   },
   "outputs": [],
   "source": [
    "lists = glob.glob('./104job/*.txt')"
   ]
  },
  {
   "cell_type": "code",
   "execution_count": null,
   "id": "1b172eda",
   "metadata": {
    "ExecuteTime": {
     "end_time": "2021-09-06T08:14:23.324453Z",
     "start_time": "2021-09-06T08:14:23.238711Z"
    }
   },
   "outputs": [],
   "source": [
    "\n",
    "data = []\n",
    "for i in lists:\n",
    "    filePath = str(i)\n",
    "    with open(filePath, 'r', encoding = \"utf-8\") as f:\n",
    "        tempList = f.read().split('工作內容')[0].split('\\n')[0:-1]\n",
    "        data.append(tempList)\n",
    "data"
   ]
  },
  {
   "cell_type": "code",
   "execution_count": null,
   "id": "e8dcd4e7",
   "metadata": {
    "ExecuteTime": {
     "end_time": "2021-09-06T08:14:23.391195Z",
     "start_time": "2021-09-06T08:14:23.328271Z"
    }
   },
   "outputs": [],
   "source": [
    "#從[Data]選一個index，用split抓取[0]的標題\n",
    "column = [i.split(':')[0] for i in data[0]]\n",
    "\n",
    "#建立DataFrame\n",
    "df = pd.DataFrame(data = data, columns = column)\n",
    "df"
   ]
  },
  {
   "cell_type": "code",
   "execution_count": null,
   "id": "2e265e2e",
   "metadata": {
    "ExecuteTime": {
     "end_time": "2021-09-06T08:14:23.423296Z",
     "start_time": "2021-09-06T08:14:23.396629Z"
    },
    "scrolled": true
   },
   "outputs": [],
   "source": [
    "# 確認是否存在空值，如有將以'無'替代\n",
    "df[df.isnull().values==True]\n",
    "\n",
    "for c in df:\n",
    "    df[c] = df[c].apply(lambda x:x.split(':')[1])"
   ]
  },
  {
   "cell_type": "code",
   "execution_count": null,
   "id": "0c5052f6",
   "metadata": {
    "ExecuteTime": {
     "end_time": "2021-09-06T08:14:23.455347Z",
     "start_time": "2021-09-06T08:14:23.428518Z"
    }
   },
   "outputs": [],
   "source": [
    "#檢查df表內是否不存在\n",
    "df[df['其他條件'] == '[]']\n",
    "df = df.replace('[]', '[無]')"
   ]
  },
  {
   "cell_type": "code",
   "execution_count": null,
   "id": "79eddd6e",
   "metadata": {
    "ExecuteTime": {
     "end_time": "2021-09-06T08:14:23.485970Z",
     "start_time": "2021-09-06T08:14:23.463237Z"
    }
   },
   "outputs": [],
   "source": [
    "df.to_csv('./104Job.csv', index = False, encoding=\"utf-8\")\n",
    "\n",
    "print('成功產出'+'./104Job.csv')"
   ]
  },
  {
   "cell_type": "code",
   "execution_count": null,
   "id": "78d80897",
   "metadata": {
    "ExecuteTime": {
     "end_time": "2021-09-06T08:15:48.608093Z",
     "start_time": "2021-09-06T08:15:48.588217Z"
    }
   },
   "outputs": [],
   "source": [
    "import jieba\n",
    "with open('stopwords.txt', 'r', encoding = 'utf-8') as f:\n",
    "    stops = f.read()"
   ]
  },
  {
   "cell_type": "code",
   "execution_count": null,
   "id": "c747f73a",
   "metadata": {
    "ExecuteTime": {
     "end_time": "2021-09-06T08:15:52.109214Z",
     "start_time": "2021-09-06T08:15:50.132420Z"
    }
   },
   "outputs": [],
   "source": [
    "skill =\"\"\n",
    "for i in df['其他條件']:\n",
    "    skill += (i[1:-1])\n",
    "\n",
    "wordList = [keyword for keyword in jieba.cut(skill) if keyword not in stops]\n",
    "wordList"
   ]
  },
  {
   "cell_type": "code",
   "execution_count": null,
   "id": "4dbf512a",
   "metadata": {
    "ExecuteTime": {
     "end_time": "2021-09-06T08:16:10.589755Z",
     "start_time": "2021-09-06T08:16:10.546093Z"
    }
   },
   "outputs": [],
   "source": [
    "countWord = dict()\n",
    "for i in wordList:\n",
    "    if i in countWord:\n",
    "        countWord[i] += 1\n",
    "    else:\n",
    "        countWord[i] = 1\n",
    "rank = [(k, v) for k,v in countWord.items()]\n",
    "rank.sort(key = lambda x:x[1], reverse = True)\n",
    "rank"
   ]
  },
  {
   "cell_type": "code",
   "execution_count": null,
   "id": "a39b0d06",
   "metadata": {
    "ExecuteTime": {
     "end_time": "2021-09-06T08:16:15.742532Z",
     "start_time": "2021-09-06T08:16:13.909494Z"
    }
   },
   "outputs": [],
   "source": [
    "from wordcloud import WordCloud\n",
    "from matplotlib import pyplot as plt\n",
    "wc = WordCloud()\n",
    "wc.generate(skill)"
   ]
  },
  {
   "cell_type": "code",
   "execution_count": null,
   "id": "aaf3a5c2",
   "metadata": {
    "ExecuteTime": {
     "end_time": "2021-09-06T08:17:16.590755Z",
     "start_time": "2021-09-06T08:17:15.828891Z"
    }
   },
   "outputs": [],
   "source": [
    "plt.imshow(wc) \n",
    "plt.axis(\"off\")\n",
    "plt.show()\n",
    "wc.to_file(\"./skill.jpg\")"
   ]
  }
 ],
 "metadata": {
  "kernelspec": {
   "display_name": "Python 3",
   "language": "python",
   "name": "python3"
  },
  "language_info": {
   "codemirror_mode": {
    "name": "ipython",
    "version": 3
   },
   "file_extension": ".py",
   "mimetype": "text/x-python",
   "name": "python",
   "nbconvert_exporter": "python",
   "pygments_lexer": "ipython3",
   "version": "3.8.10"
  }
 },
 "nbformat": 4,
 "nbformat_minor": 5
}
